{
 "cells": [
  {
   "cell_type": "code",
   "execution_count": 10,
   "metadata": {
    "collapsed": false
   },
   "outputs": [
    {
     "ename": "ImportError",
     "evalue": "No module named PIL.Image",
     "output_type": "error",
     "traceback": [
      "\u001b[0;31m---------------------------------------------------------------------------\u001b[0m",
      "\u001b[0;31mImportError\u001b[0m                               Traceback (most recent call last)",
      "\u001b[0;32m<ipython-input-10-74e75f0b8768>\u001b[0m in \u001b[0;36m<module>\u001b[0;34m()\u001b[0m\n\u001b[1;32m      1\u001b[0m \u001b[0;32mimport\u001b[0m \u001b[0mnumpy\u001b[0m\u001b[0;34m\u001b[0m\u001b[0m\n\u001b[1;32m      2\u001b[0m \u001b[0;32mfrom\u001b[0m \u001b[0mfunctools\u001b[0m \u001b[0;32mimport\u001b[0m \u001b[0mpartial\u001b[0m\u001b[0;34m\u001b[0m\u001b[0m\n\u001b[0;32m----> 3\u001b[0;31m \u001b[0;32mimport\u001b[0m \u001b[0mPIL\u001b[0m\u001b[0;34m.\u001b[0m\u001b[0mImage\u001b[0m\u001b[0;34m\u001b[0m\u001b[0m\n\u001b[0m\u001b[1;32m      4\u001b[0m \u001b[0;32mimport\u001b[0m \u001b[0mtensorflow\u001b[0m \u001b[0;32mas\u001b[0m \u001b[0mtf\u001b[0m\u001b[0;34m\u001b[0m\u001b[0m\n\u001b[1;32m      5\u001b[0m \u001b[0;32mimport\u001b[0m \u001b[0murllib\u001b[0m\u001b[0;34m.\u001b[0m\u001b[0mrequest\u001b[0m\u001b[0;34m\u001b[0m\u001b[0m\n",
      "\u001b[0;31mImportError\u001b[0m: No module named PIL.Image"
     ]
    }
   ],
   "source": [
    "import numpy\n",
    "from functools import partial\n",
    "import PIL.Image\n",
    "import tensorflow as tf\n",
    "import urllib.request\n",
    "import os\n",
    "import zipfile\n",
    "\n",
    "\n",
    "def main():\n",
    "    url = 'https://storage.googleapis.com/download.tensorflow.org/models/inceptionh5h.zip'\n",
    "    data_dir = '../data'\n",
    "    model_name = os.path.split(url)[-1]\n",
    "    local_zip_file = os.path.join(data_dir, model_name)\n",
    "    if not os.path.exists(local_zip_file):\n",
    "        model_url = urllib.request.urlopen(url)\n",
    "        with open(local_zip_file, 'wb') as output:\n",
    "            output.write(model_url.read())\n",
    "            \n",
    "        with zipfile.Zipfile(local_zip_file, 'r') as zip_ref:\n",
    "            zip_ref.extractall(data_dir)\n",
    "            \n",
    "    model_fn = 'tensorflow_inception_graph.pb'\n",
    "    \n",
    "    graph = tf.Graph()\n",
    "    sess = tf.InteractiveSession(graph=graph)\n",
    "    with tf.gfile.FastGFile(os.path.join(data_dir,model_fn),'rb') as f:\n",
    "        graph_def = tf.Graphdef()\n",
    "        graph_def.ParseFromString(f.read())\n",
    "        t_input = tf.placeholder(np.fload32, name='input')\n",
    "        imagenet_mean = 117.0\n",
    "        t_preprocessed = tf.expand_dims(t_input-imagenet_mean, 0)\n",
    "        tf.import_graph_def(graph_def, {'input':t_preprocessed})\n",
    "        layers = [op.name for op in graph.get_operations() if op.type=='Conv2D' and 'import/' in op.name]\n",
    "        \n",
    "        feature_nums = [int(graph.get_tensor_by_name(name+':0').get_shape()[-1]) for name in layers]\n",
    "        \n",
    "        \n",
    "        def render_deepdream(t_obj, img0=img_noise, iter_n=10,step=1.5, octave_n=4, octave_scale=1.4):\n",
    "            t_score = tf.reduce_mean(t_obj)\n",
    "            t_grad = tf.gradientss(t_scorem,t_input)[0]\n",
    "            \n",
    "            img = img0\n",
    "            octaves = []\n",
    "            for _ in range(octave_n-1):\n",
    "                hw = img.shape[:2]\n",
    "                lo = resize(img, np.int32(np.float32(h2)/octave_scale))\n",
    "                hi = img-resize(low, hw)\n",
    "                img = lo\n",
    "                octaves.append(hi)\n",
    "                \n",
    "            for octave in range(octave_n):\n",
    "                if octave>0:\n",
    "                    hi = octaves[-octave]\n",
    "                    img = resize(img, hi.shape[:2])+hi\n",
    "                    for _ in range(iter_n):\n",
    "                        g = calc_grad_tiled(img, t_grad)\n",
    "                        img += g*(step/ (np.abs(g).mean()+1e-7))\n",
    "                    showarray(img/255.0)\n",
    "                        \n",
    "        print('Number of layers', len(layers))\n",
    "        print('Total number of feature channels:',sum(feature_nums))\n",
    "        \n",
    "        layer = 'mixed4d_3x3_bottleneck_pre_relu'\n",
    "        channel = 139\n",
    "        \n",
    "        img0 = PIL.Image.open('pilatus800.jpg')\n",
    "        img0 = np.float32(img0)\n",
    "        \n",
    "        \n",
    "        render_deepdream(T(layer)[:,:,:,139] img0)\n",
    "        \n",
    "        render_deepdream(tf.square)"
   ]
  },
  {
   "cell_type": "code",
   "execution_count": 11,
   "metadata": {
    "collapsed": false
   },
   "outputs": [
    {
     "ename": "SyntaxError",
     "evalue": "invalid syntax (<ipython-input-11-b62db5d44994>, line 1)",
     "output_type": "error",
     "traceback": [
      "\u001b[0;36m  File \u001b[0;32m\"<ipython-input-11-b62db5d44994>\"\u001b[0;36m, line \u001b[0;32m1\u001b[0m\n\u001b[0;31m    pip install PIL\u001b[0m\n\u001b[0m              ^\u001b[0m\n\u001b[0;31mSyntaxError\u001b[0m\u001b[0;31m:\u001b[0m invalid syntax\n"
     ]
    }
   ],
   "source": []
  },
  {
   "cell_type": "code",
   "execution_count": null,
   "metadata": {
    "collapsed": true
   },
   "outputs": [],
   "source": []
  }
 ],
 "metadata": {
  "kernelspec": {
   "display_name": "Python [tensorflow_env]",
   "language": "python",
   "name": "Python [tensorflow_env]"
  },
  "language_info": {
   "codemirror_mode": {
    "name": "ipython",
    "version": 2
   },
   "file_extension": ".py",
   "mimetype": "text/x-python",
   "name": "python",
   "nbconvert_exporter": "python",
   "pygments_lexer": "ipython2",
   "version": "2.7.12"
  }
 },
 "nbformat": 4,
 "nbformat_minor": 0
}
